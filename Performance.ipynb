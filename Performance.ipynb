{
 "cells": [
  {
   "cell_type": "code",
   "execution_count": 1,
   "id": "b2179d6e",
   "metadata": {},
   "outputs": [],
   "source": [
    "import math"
   ]
  },
  {
   "cell_type": "code",
   "execution_count": 32,
   "id": "e9ae660e",
   "metadata": {},
   "outputs": [],
   "source": [
    "def calc_CPI(i_arr,p_arr):\n",
    "    if not(len(i_arr) == len(p_arr)):\n",
    "        print(\"check matrix entries\")\n",
    "        return\n",
    "    \n",
    "    CPI = 0\n",
    "    for i in range(len(i_arr)):\n",
    "        CPI = CPI + p_arr[i]*i_arr[i]\n",
    "    \n",
    "    return CPI\n",
    "        \n",
    "\n",
    "def calc_MIPS(f,CPI):\n",
    "    return f/(CPI* (10**6))\n",
    "\n",
    "\n",
    "def calc_instr_overhead(i_miss, l1_penalty, l1_miss, l2_penalty, l2_miss, mem_penalty):\n",
    "    return i_miss*l1_miss*l2_penalty + i_miss*l1_miss*l2_miss*mem_penalty\n",
    "\n",
    "def calc_data_overhead(d_miss, l1_penalty, l1_miss, l2_penalty, l2_miss, mem_penalty):\n",
    "    return d_miss*l1_miss*l2_penalty + d_miss*l1_miss*l2_miss*mem_penalty\n",
    "\n",
    "\n",
    "def calc_amat(l1_penalty, l1_miss, l2_penalty, l2_miss, mem_penalty):\n",
    "    return l1_miss*l2_miss*mem_penalty"
   ]
  },
  {
   "cell_type": "markdown",
   "id": "f28c48d3",
   "metadata": {},
   "source": [
    "## Instruction Classes"
   ]
  },
  {
   "cell_type": "code",
   "execution_count": 46,
   "id": "ee767f43",
   "metadata": {},
   "outputs": [
    {
     "name": "stdout",
     "output_type": "stream",
     "text": [
      "CPI: 3.0300000000000002\n",
      "MIPS: 660.06600660066\n",
      "total time: 401475.00000000006 us\n"
     ]
    }
   ],
   "source": [
    "inst_arr = [0.15,0.45,0.34,0.06]\n",
    "P1 = [2,1,6,4]\n",
    "total_instr = 265 * 10**6\n",
    "\n",
    "\n",
    "freq = 2 * 10**9\n",
    "\n",
    "cpi = calc_CPI(inst_arr,P1)\n",
    "#cpi = 2\n",
    "\n",
    "mips = calc_MIPS(freq,cpi)\n",
    "\n",
    "print(\"CPI:\",cpi)\n",
    "print(\"MIPS:\",mips)\n",
    "print(\"total time:\", total_instr/(mips*10**6) * 10**6,\"us\")\n",
    "\n",
    "# a_cpi = cpi/sum(P1)\n",
    "# print(\"Avg. CPI:\",a_cpi)"
   ]
  },
  {
   "cell_type": "markdown",
   "id": "b1649994",
   "metadata": {},
   "source": [
    "\n",
    "## Miss penalties"
   ]
  },
  {
   "cell_type": "code",
   "execution_count": 39,
   "id": "1c694dec",
   "metadata": {},
   "outputs": [
    {
     "name": "stdout",
     "output_type": "stream",
     "text": [
      "freq: 1.1111111111111112 GHz\n",
      "\n",
      "l1_penalty: 2 cycles\n",
      "l2_penalty: 0 cycles\n",
      "mem_penalty: 78 cycles\n",
      "\n",
      "AMAT: 4.68 cycles or  4.212 ns\n",
      "\n",
      "total(cache + mem) data overhead: 1.6847999999999999 cycles\n",
      "total(cache + mem) instruction overhead: 4.68 cycles\n",
      "overall CPI: 7.3648 cycles or 6.6283199999999995 ns\n"
     ]
    }
   ],
   "source": [
    "l1_miss = 0.06\n",
    "l2_miss = 1 #1 if no L2, since it will always miss\n",
    "\n",
    "i_miss = 1 #1 if no probability given\n",
    "d_miss = 0.36 \n",
    "\n",
    "l1_miss_time = 0.9 * 10**(-9)\n",
    "l2_miss_time = 0 * 10**(-9) #0 if no L2\n",
    "mem_miss_time = 70 * 10**(-9) #0 if no mem\n",
    "\n",
    "frequency = (1/0.9) * 10**9\n",
    "\n",
    "print(\"freq:\",frequency/10**9,\"GHz\")\n",
    "\n",
    "#converting time to cycles\n",
    "l1_penalty = math.ceil(l1_miss_time * frequency)\n",
    "l2_penalty = math.ceil(l2_miss_time * frequency)\n",
    "mem_penalty = math.ceil(mem_miss_time * frequency)\n",
    "\n",
    "print(\"\\nl1_penalty:\",l1_penalty,\"cycles\")\n",
    "print(\"l2_penalty:\",l2_penalty,\"cycles\")\n",
    "print(\"mem_penalty:\",mem_penalty,\"cycles\")\n",
    "\n",
    "\n",
    "# l1_penalty = 0\n",
    "# l2_penalty = 0\n",
    "# mem_penalty = 0\n",
    "\n",
    "\n",
    "\n",
    "amat = calc_amat(l1_penalty, l1_miss, l2_penalty, l2_miss, mem_penalty)\n",
    "\n",
    "data_overhead = calc_data_overhead(d_miss, l1_penalty, l1_miss, l2_penalty, l2_miss, mem_penalty)\n",
    "instr_overhead = calc_instr_overhead(i_miss, l1_penalty, l1_miss, l2_penalty, l2_miss, mem_penalty)\n",
    "\n",
    "overall_cpi = data_overhead + instr_overhead + 1\n",
    "\n",
    "print(\"\\nAMAT:\",amat,\"cycles or \", amat/frequency * 10**9, \"ns\")\n",
    "\n",
    "print(\"\\ntotal(cache + mem) data overhead:\",data_overhead,\"cycles\")\n",
    "print(\"total(cache + mem) instruction overhead:\",instr_overhead,\"cycles\")\n",
    "print(\"overall CPI:\", overall_cpi,\"cycles or\", overall_cpi/frequency * 10**9, \"ns\")\n"
   ]
  },
  {
   "cell_type": "markdown",
   "id": "d8cf0bd1",
   "metadata": {},
   "source": [
    "## Power"
   ]
  },
  {
   "cell_type": "code",
   "execution_count": 10,
   "id": "6b00fd44",
   "metadata": {},
   "outputs": [
    {
     "name": "stdout",
     "output_type": "stream",
     "text": [
      "new power(approx): 52 % of old power\n"
     ]
    }
   ],
   "source": [
    "#in terms of factors\n",
    "cap = 0.85\n",
    "volt = 0.85\n",
    "freq = 0.85\n",
    "\n",
    "power_cons = cap * volt**2 * freq\n",
    "\n",
    "print(\"new power(approx):\",int(power_cons*100),\"% of old power\")"
   ]
  },
  {
   "cell_type": "code",
   "execution_count": null,
   "id": "a83818d4",
   "metadata": {},
   "outputs": [],
   "source": []
  }
 ],
 "metadata": {
  "kernelspec": {
   "display_name": "Python 3",
   "language": "python",
   "name": "python3"
  },
  "language_info": {
   "codemirror_mode": {
    "name": "ipython",
    "version": 3
   },
   "file_extension": ".py",
   "mimetype": "text/x-python",
   "name": "python",
   "nbconvert_exporter": "python",
   "pygments_lexer": "ipython3",
   "version": "3.8.8"
  }
 },
 "nbformat": 4,
 "nbformat_minor": 5
}
